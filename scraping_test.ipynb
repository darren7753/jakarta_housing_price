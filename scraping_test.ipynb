{
 "cells": [
  {
   "attachments": {},
   "cell_type": "markdown",
   "metadata": {},
   "source": [
    "# Library Imports"
   ]
  },
  {
   "attachments": {},
   "cell_type": "markdown",
   "metadata": {},
   "source": [
    "Importing necessary libraries and modules."
   ]
  },
  {
   "cell_type": "code",
   "execution_count": 1,
   "metadata": {},
   "outputs": [],
   "source": [
    "import numpy as np\n",
    "import pandas as pd\n",
    "import requests\n",
    "import urllib.parse\n",
    "import json\n",
    "\n",
    "from datetime import datetime\n",
    "from google.oauth2.service_account import Credentials\n",
    "\n",
    "from selenium import webdriver\n",
    "from selenium.webdriver.chrome.service import Service\n",
    "from selenium.webdriver.chrome.options import Options\n",
    "from selenium.common.exceptions import NoSuchElementException"
   ]
  },
  {
   "attachments": {},
   "cell_type": "markdown",
   "metadata": {},
   "source": [
    "# Data Scraping"
   ]
  },
  {
   "attachments": {},
   "cell_type": "markdown",
   "metadata": {},
   "source": [
    "Defining the variables that are required to upload the data to BigQuery tables."
   ]
  },
  {
   "cell_type": "code",
   "execution_count": 2,
   "metadata": {},
   "outputs": [],
   "source": [
    "target_table = \"real_estate.jakarta\"\n",
    "target_table_2 = \"real_estate.most_recent\"\n",
    "project_id = \"jakarta-housing-price\"\n",
    "credential_file = \"jakarta-housing-price-595a9cff2797.json\"\n",
    "credential = Credentials.from_service_account_file(credential_file)\n",
    "job_location = \"asia-southeast2\""
   ]
  },
  {
   "cell_type": "code",
   "execution_count": 3,
   "metadata": {},
   "outputs": [
    {
     "data": {
      "text/html": [
       "<div>\n",
       "<style scoped>\n",
       "    .dataframe tbody tr th:only-of-type {\n",
       "        vertical-align: middle;\n",
       "    }\n",
       "\n",
       "    .dataframe tbody tr th {\n",
       "        vertical-align: top;\n",
       "    }\n",
       "\n",
       "    .dataframe thead th {\n",
       "        text-align: right;\n",
       "    }\n",
       "</style>\n",
       "<table border=\"1\" class=\"dataframe\">\n",
       "  <thead>\n",
       "    <tr style=\"text-align: right;\">\n",
       "      <th></th>\n",
       "      <th>date</th>\n",
       "      <th>title</th>\n",
       "      <th>link</th>\n",
       "      <th>location</th>\n",
       "      <th>latitude</th>\n",
       "      <th>longitude</th>\n",
       "      <th>bedroom</th>\n",
       "      <th>bathroom</th>\n",
       "      <th>garage</th>\n",
       "      <th>land_m2</th>\n",
       "      <th>building_m2</th>\n",
       "      <th>price_idr</th>\n",
       "      <th>monthly_payment_idr</th>\n",
       "      <th>agent</th>\n",
       "    </tr>\n",
       "  </thead>\n",
       "  <tbody>\n",
       "    <tr>\n",
       "      <th>0</th>\n",
       "      <td>2023-06-03</td>\n",
       "      <td>ANA*RUMAH BAGUS UK 10X20M 2.5LT JALAN LEGA DI ...</td>\n",
       "      <td>https://www.rumah123.com/properti/jakarta-bara...</td>\n",
       "      <td>Jelambar, Jakarta Barat</td>\n",
       "      <td>-6.161569</td>\n",
       "      <td>106.743891</td>\n",
       "      <td>4</td>\n",
       "      <td>4</td>\n",
       "      <td>NaN</td>\n",
       "      <td>200</td>\n",
       "      <td>450</td>\n",
       "      <td>4.750000e+09</td>\n",
       "      <td>34000000.0</td>\n",
       "      <td>ANA*PROPERTY JELAMBAR</td>\n",
       "    </tr>\n",
       "  </tbody>\n",
       "</table>\n",
       "</div>"
      ],
      "text/plain": [
       "        date                                              title   \n",
       "0 2023-06-03  ANA*RUMAH BAGUS UK 10X20M 2.5LT JALAN LEGA DI ...  \\\n",
       "\n",
       "                                                link                 location   \n",
       "0  https://www.rumah123.com/properti/jakarta-bara...  Jelambar, Jakarta Barat  \\\n",
       "\n",
       "   latitude   longitude  bedroom  bathroom  garage  land_m2  building_m2   \n",
       "0 -6.161569  106.743891        4         4     NaN      200          450  \\\n",
       "\n",
       "      price_idr  monthly_payment_idr                  agent  \n",
       "0  4.750000e+09           34000000.0  ANA*PROPERTY JELAMBAR  "
      ]
     },
     "execution_count": 3,
     "metadata": {},
     "output_type": "execute_result"
    }
   ],
   "source": [
    "query_most_recent = pd.read_gbq(f\"SELECT * FROM `{project_id}.{target_table_2}`\", project_id=project_id, credentials=credential)\n",
    "query_most_recent[\"date\"] = query_most_recent[\"date\"].dt.tz_localize(None)\n",
    "query_most_recent"
   ]
  },
  {
   "attachments": {},
   "cell_type": "markdown",
   "metadata": {},
   "source": [
    "Setting up the web scraping process using Selenium. It configures the Chrome driver with specific options, defines the website URL to scrape, and initializes lists to store the scraped data."
   ]
  },
  {
   "cell_type": "code",
   "execution_count": 4,
   "metadata": {},
   "outputs": [
    {
     "name": "stdout",
     "output_type": "stream",
     "text": [
      "Scraping page 1\n",
      "House 1 (Page 1):\n",
      "Scraped Timestamp: 2023-06-04 03:45:37\n",
      "Title: ANA*RUMAH BAGUS UK 10X20M 2.5LT JALAN LEGA DI JELAMBAR\n",
      "Link: https://www.rumah123.com/properti/jakarta-barat/hos13912047/\n",
      "Location: Jelambar, Jakarta Barat\n",
      "Price: Rp 4,75 Miliar\n",
      "Cicilan : 34 Jutaan per bulan\n",
      "Bedroom: 4\n",
      "Bathroom: 4\n",
      "Garage: nan\n",
      "Land Area: 200\n",
      "Building Area: 450\n",
      "Agent: ANA*PROPERTY JELAMBAR\n",
      "Date: Diperbarui sejak 03 Juni, 2023\n",
      "--------------------\n",
      "CONDITIONS ARE MET\n"
     ]
    }
   ],
   "source": [
    "# Browser Settings\n",
    "website = \"https://www.rumah123.com/jual/dki-jakarta/rumah/?sort=posted-desc&page=1#qid~a46c0629-67e4-410c-9c35-0c80e98987d9\"\n",
    "path = \"chromedriver.exe\"\n",
    "\n",
    "service = Service(path)\n",
    "\n",
    "options = Options()\n",
    "options.add_argument(\"--headless\")\n",
    "options.add_argument(\"window-size=1920x1080\")\n",
    "\n",
    "driver = webdriver.Chrome(service=service, options=options)\n",
    "\n",
    "# Lists to Store the Scraped Data\n",
    "titles = []\n",
    "links = []\n",
    "locations = []\n",
    "prices = []\n",
    "bedrooms = []\n",
    "bathrooms = []\n",
    "garages = []\n",
    "land_areas = []\n",
    "building_areas = []\n",
    "agents = []\n",
    "dates = []\n",
    "scraped_timestamps = []\n",
    "\n",
    "# Iterate through Each Page\n",
    "conditions_met = False\n",
    "\n",
    "for page in range(1, 101):\n",
    "    print(f\"Scraping page {page}\")\n",
    "\n",
    "    url = f\"https://www.rumah123.com/jual/dki-jakarta/rumah/?sort=posted-desc&page={page}#qid~a46c0629-67e4-410c-9c35-0c80e98987d9\"\n",
    "    driver.get(url)\n",
    "\n",
    "    # Property Elements\n",
    "    property_elements = driver.find_elements(\"xpath\", \"//div[contains(@class, 'card-container')]\")\n",
    "    \n",
    "    # Iterate through Each Property Element\n",
    "    index = 0\n",
    "    for element in property_elements:\n",
    "        try:\n",
    "            # Scraped Timestamp\n",
    "            current_timestamp = datetime.now().strftime(\"%Y-%m-%d %H:%M:%S\")\n",
    "\n",
    "            # Title\n",
    "            try:\n",
    "                title_element = element.find_element(\"xpath\", \".//a[@title and h2]\")\n",
    "                title = title_element.text\n",
    "            except NoSuchElementException:\n",
    "                title = float(\"nan\")\n",
    "\n",
    "            # Link\n",
    "            try:\n",
    "                link_element = element.find_element(\"xpath\", \".//a[@title and h2]\")\n",
    "                link = link_element.get_attribute(\"href\")\n",
    "            except NoSuchElementException:\n",
    "                link = float(\"nan\")\n",
    "\n",
    "            # Location\n",
    "            try:\n",
    "                location_element = element.find_element(\"xpath\", \".//a[@title and h2]/following-sibling::span\")\n",
    "                location = location_element.text\n",
    "            except NoSuchElementException:\n",
    "                location = float(\"nan\")\n",
    "\n",
    "            # Price\n",
    "            try:\n",
    "                price_element = element.find_element(\"class name\", \"card-featured__middle-section__price\")\n",
    "                price = price_element.text\n",
    "            except NoSuchElementException:\n",
    "                price = float(\"nan\")\n",
    "\n",
    "            # Features\n",
    "            features_element = element.find_element(\"class name\", \"card-featured__middle-section__attribute\")\n",
    "\n",
    "            # Bedroom\n",
    "            try:\n",
    "                bedroom_element = features_element.find_element(\"css selector\", \"div.ui-molecules-list__item:nth-child(1) span.attribute-text\")\n",
    "                bedroom = int(bedroom_element.text) if bedroom_element.text.isdigit() else float(\"nan\")\n",
    "            except NoSuchElementException:\n",
    "                bedroom = float(\"nan\")\n",
    "\n",
    "            # Bathroom\n",
    "            try:\n",
    "                bathroom_element = features_element.find_element(\"css selector\", \"div.ui-molecules-list__item:nth-child(2) span.attribute-text\")\n",
    "                bathroom = int(bathroom_element.text) if bathroom_element.text.isdigit() else float(\"nan\")\n",
    "            except NoSuchElementException:\n",
    "                bathroom = float(\"nan\")\n",
    "\n",
    "            # Garage\n",
    "            try:\n",
    "                garage_element = features_element.find_element(\"css selector\", \"div.ui-molecules-list__item:nth-child(3) span.attribute-text\")\n",
    "                garage = int(garage_element.text) if garage_element.text.isdigit() else float(\"nan\")\n",
    "            except NoSuchElementException:\n",
    "                garage = float(\"nan\")\n",
    "\n",
    "            # Land Area\n",
    "            try:\n",
    "                land_area_element = element.find_element(\"xpath\", \".//div[contains(text(), 'LT : ')]/span\")\n",
    "                land_area_text = land_area_element.text.strip()\n",
    "                land_area = int(land_area_text.split()[0]) if land_area_text.split()[0].isdigit() else float(\"nan\")\n",
    "            except NoSuchElementException:\n",
    "                land_area = float(\"nan\")\n",
    "\n",
    "            # Building Area\n",
    "            try:\n",
    "                building_area_element = element.find_element(\"xpath\", \".//div[contains(text(), 'LB : ')]/span\")\n",
    "                building_area_text = building_area_element.text.strip()\n",
    "                building_area = int(building_area_text.split()[0]) if building_area_text.split()[0].isdigit() else float(\"nan\")\n",
    "            except NoSuchElementException:\n",
    "                building_area = float(\"nan\")\n",
    "\n",
    "            # Agent & Date\n",
    "            try:\n",
    "                agent_date_element = element.find_element(\"class name\", \"ui-organisms-card-r123-basic__bottom-section__agent\")\n",
    "                agent = agent_date_element.find_element(\"tag name\", \"p\").text.strip()\n",
    "                date = agent_date_element.find_elements(\"tag name\", \"p\")[1].text.strip() if len(agent_date_element.find_elements(\"tag name\", \"p\")) > 1 else float(\"nan\")\n",
    "            except NoSuchElementException:\n",
    "                agent = float(\"nan\")\n",
    "                date = float(\"nan\")\n",
    "\n",
    "            # Store the Scraped Data in the Lists\n",
    "            print(f\"House {index + 1} (Page {page}):\")\n",
    "\n",
    "            scraped_timestamps.append(current_timestamp)\n",
    "            print(f\"Scraped Timestamp: {current_timestamp}\")\n",
    "\n",
    "            titles.append(title)\n",
    "            print(f\"Title: {title}\")\n",
    "\n",
    "            links.append(link)\n",
    "            print(f\"Link: {link}\")\n",
    "\n",
    "            locations.append(location)\n",
    "            print(f\"Location: {location}\")\n",
    "\n",
    "            prices.append(price)\n",
    "            print(f\"Price: {price}\")\n",
    "\n",
    "            bedrooms.append(bedroom)\n",
    "            print(f\"Bedroom: {bedroom}\")\n",
    "\n",
    "            bathrooms.append(bathroom)\n",
    "            print(f\"Bathroom: {bathroom}\")\n",
    "\n",
    "            garages.append(garage)\n",
    "            print(f\"Garage: {garage}\")\n",
    "\n",
    "            land_areas.append(land_area)\n",
    "            print(f\"Land Area: {land_area}\")\n",
    "\n",
    "            building_areas.append(building_area)\n",
    "            print(f\"Building Area: {building_area}\")\n",
    "\n",
    "            agents.append(agent)\n",
    "            print(f\"Agent: {agent}\")\n",
    "\n",
    "            dates.append(date)\n",
    "            print(f\"Date: {date}\")\n",
    "\n",
    "            print(\"--------------------\")\n",
    "\n",
    "            # Check If Conditions Are Met\n",
    "            if title == query_most_recent[\"title\"][0] and link == query_most_recent[\"link\"][0] and \\\n",
    "                    location == query_most_recent[\"location\"][0] and agent == query_most_recent[\"agent\"][0]:\n",
    "                print(\"CONDITIONS ARE MET\")\n",
    "                conditions_met = True\n",
    "                break\n",
    "\n",
    "            index += 1\n",
    "\n",
    "        except NoSuchElementException:\n",
    "            continue\n",
    "\n",
    "    if conditions_met:\n",
    "        break\n",
    "\n",
    "driver.quit()"
   ]
  },
  {
   "attachments": {},
   "cell_type": "markdown",
   "metadata": {},
   "source": [
    "Creating a dictionary called `property_details` to store the scraped property details."
   ]
  },
  {
   "cell_type": "code",
   "execution_count": 5,
   "metadata": {},
   "outputs": [
    {
     "name": "stdout",
     "output_type": "stream",
     "text": [
      "Key: Title\n",
      "Length of Values: 1\n",
      "---\n",
      "Key: Link\n",
      "Length of Values: 1\n",
      "---\n",
      "Key: Location\n",
      "Length of Values: 1\n",
      "---\n",
      "Key: Bedroom\n",
      "Length of Values: 1\n",
      "---\n",
      "Key: Bathroom\n",
      "Length of Values: 1\n",
      "---\n",
      "Key: Garage\n",
      "Length of Values: 1\n",
      "---\n",
      "Key: Land (m²)\n",
      "Length of Values: 1\n",
      "---\n",
      "Key: Building (m²)\n",
      "Length of Values: 1\n",
      "---\n",
      "Key: Price\n",
      "Length of Values: 1\n",
      "---\n",
      "Key: Agent\n",
      "Length of Values: 1\n",
      "---\n",
      "Key: Date\n",
      "Length of Values: 1\n",
      "---\n"
     ]
    }
   ],
   "source": [
    "property_details = {\n",
    "    \"Title\": titles,\n",
    "    \"Link\": links,\n",
    "    \"Location\": locations,\n",
    "    \"Bedroom\": bedrooms,\n",
    "    \"Bathroom\": bathrooms,\n",
    "    \"Garage\": garages,\n",
    "    \"Land (m²)\": land_areas,\n",
    "    \"Building (m²)\": building_areas,\n",
    "    \"Price\": prices,\n",
    "    \"Agent\": agents,\n",
    "    \"Date\": dates\n",
    "}\n",
    "\n",
    "for key, value in property_details.items():\n",
    "    print(\"Key:\", key)\n",
    "    print(\"Length of Values:\", len(value))\n",
    "    print(\"---\")"
   ]
  },
  {
   "attachments": {},
   "cell_type": "markdown",
   "metadata": {},
   "source": [
    "# Data Cleaning"
   ]
  },
  {
   "attachments": {},
   "cell_type": "markdown",
   "metadata": {},
   "source": [
    "Defining a dictionary called `month_mapping` that maps Indonesian month names to their English equivalents."
   ]
  },
  {
   "cell_type": "code",
   "execution_count": 6,
   "metadata": {},
   "outputs": [],
   "source": [
    "month_mapping = {\n",
    "    \"(?i)Januari\": \"January\",\n",
    "    \"(?i)Februari\": \"February\",\n",
    "    \"(?i)Maret\": \"March\",\n",
    "    \"(?i)April\": \"April\",\n",
    "    \"(?i)Mei\": \"May\",\n",
    "    \"(?i)Juni\": \"June\",\n",
    "    \"(?i)Juli\": \"July\",\n",
    "    \"(?i)Agustus\": \"August\",\n",
    "    \"(?i)September\": \"September\",\n",
    "    \"(?i)Oktober\": \"October\",\n",
    "    \"(?i)November\": \"November\",\n",
    "    \"(?i)Desember\": \"December\"\n",
    "}"
   ]
  },
  {
   "attachments": {},
   "cell_type": "markdown",
   "metadata": {},
   "source": [
    "Defining a function `convert_price` to convert the scraped price string into a numeric value."
   ]
  },
  {
   "cell_type": "code",
   "execution_count": 7,
   "metadata": {},
   "outputs": [],
   "source": [
    "def convert_price(price):\n",
    "    number_split = price.split(\" \")\n",
    "\n",
    "    numeric = float(number_split[0].replace(\",\", \".\"))\n",
    "    suffix = number_split[1]\n",
    "\n",
    "    if \"triliun\" in suffix.lower():\n",
    "        multiplier = 10**12\n",
    "    elif \"miliar\" in suffix.lower():\n",
    "        multiplier = 10**9\n",
    "    elif \"juta\" in suffix.lower():\n",
    "        multiplier = 10**6\n",
    "    else:\n",
    "        multiplier = 1\n",
    "\n",
    "    numeric *= multiplier\n",
    "    return numeric"
   ]
  },
  {
   "attachments": {},
   "cell_type": "markdown",
   "metadata": {},
   "source": [
    "Retrieving the latitude and longitude coordinates for specific locations in Jakarta using the Nominatim API and storing them in a dictionary. The dictionary is then saved as a JSON file."
   ]
  },
  {
   "cell_type": "code",
   "execution_count": 8,
   "metadata": {},
   "outputs": [],
   "source": [
    "jakarta_locations = [\"Jakarta Pusat\", \"Jakarta Utara\", \"Jakarta Timur\", \"Jakarta Selatan\", \"Jakarta Barat\"]\n",
    "\n",
    "coordinates = {}\n",
    "\n",
    "for loc in jakarta_locations:\n",
    "    url = \"https://nominatim.openstreetmap.org/search/\" + urllib.parse.quote(loc) +\"?format=json\"\n",
    "    response = requests.get(url).json()\n",
    "    coordinates[loc] = {\"latitude\": response[0][\"lat\"], \"longitude\": response[0][\"lon\"]}\n",
    "\n",
    "with open(\"jakarta_coordinates.json\", \"w\") as file:\n",
    "    file.write(json.dumps(coordinates))"
   ]
  },
  {
   "attachments": {},
   "cell_type": "markdown",
   "metadata": {},
   "source": [
    "Loading the JSON file containing the coordinates of Jakarta locations into a dictionary."
   ]
  },
  {
   "cell_type": "code",
   "execution_count": 9,
   "metadata": {},
   "outputs": [
    {
     "data": {
      "text/plain": [
       "{'Jakarta Pusat': {'latitude': '-6.18233995',\n",
       "  'longitude': '106.84287153600738'},\n",
       " 'Jakarta Utara': {'latitude': '-6.136197', 'longitude': '106.90069022428446'},\n",
       " 'Jakarta Timur': {'latitude': '-6.26289085',\n",
       "  'longitude': '106.88222894692834'},\n",
       " 'Jakarta Selatan': {'latitude': '-6.28381815',\n",
       "  'longitude': '106.80486325728526'},\n",
       " 'Jakarta Barat': {'latitude': '-6.161569', 'longitude': '106.74389053715214'}}"
      ]
     },
     "execution_count": 9,
     "metadata": {},
     "output_type": "execute_result"
    }
   ],
   "source": [
    "with open(\"jakarta_coordinates.json\", \"r\") as file:\n",
    "    coordinates = json.loads(file.read())\n",
    "\n",
    "coordinates"
   ]
  },
  {
   "attachments": {},
   "cell_type": "markdown",
   "metadata": {},
   "source": [
    "Creating Pandas DataFrames from the scraped data. It performs various data cleaning and transformation steps such as replacing text, converting data types, applying the `convert_price` function, retrieving latitude and longitude coordinates from the `coordinates` dictionary, and reordering the columns."
   ]
  },
  {
   "cell_type": "code",
   "execution_count": 10,
   "metadata": {},
   "outputs": [
    {
     "data": {
      "text/html": [
       "<div>\n",
       "<style scoped>\n",
       "    .dataframe tbody tr th:only-of-type {\n",
       "        vertical-align: middle;\n",
       "    }\n",
       "\n",
       "    .dataframe tbody tr th {\n",
       "        vertical-align: top;\n",
       "    }\n",
       "\n",
       "    .dataframe thead th {\n",
       "        text-align: right;\n",
       "    }\n",
       "</style>\n",
       "<table border=\"1\" class=\"dataframe\">\n",
       "  <thead>\n",
       "    <tr style=\"text-align: right;\">\n",
       "      <th></th>\n",
       "      <th>date</th>\n",
       "      <th>title</th>\n",
       "      <th>link</th>\n",
       "      <th>location</th>\n",
       "      <th>latitude</th>\n",
       "      <th>longitude</th>\n",
       "      <th>bedroom</th>\n",
       "      <th>bathroom</th>\n",
       "      <th>garage</th>\n",
       "      <th>land_m2</th>\n",
       "      <th>building_m2</th>\n",
       "      <th>price_idr</th>\n",
       "      <th>monthly_payment_idr</th>\n",
       "      <th>agent</th>\n",
       "      <th>scraped_timestamp</th>\n",
       "    </tr>\n",
       "  </thead>\n",
       "  <tbody>\n",
       "  </tbody>\n",
       "</table>\n",
       "</div>"
      ],
      "text/plain": [
       "Empty DataFrame\n",
       "Columns: [date, title, link, location, latitude, longitude, bedroom, bathroom, garage, land_m2, building_m2, price_idr, monthly_payment_idr, agent, scraped_timestamp]\n",
       "Index: []"
      ]
     },
     "execution_count": 10,
     "metadata": {},
     "output_type": "execute_result"
    }
   ],
   "source": [
    "df = pd.DataFrame({\n",
    "    \"Title\": titles,\n",
    "    \"Link\": links,\n",
    "    \"Location\": locations,\n",
    "    \"Bedroom\": bedrooms,\n",
    "    \"Bathroom\": bathrooms,\n",
    "    \"Garage\": garages,\n",
    "    \"Land m2\": land_areas,\n",
    "    \"Building m2\": building_areas,\n",
    "    \"Price\": prices,\n",
    "    \"Agent\": agents,\n",
    "    \"Date\": dates,\n",
    "    \"Scraped Timestamp\": scraped_timestamps\n",
    "})\n",
    "\n",
    "df[\"Date\"] = df[\"Date\"].str.replace(\"Diperbarui sejak \", \"\").str.replace(\",\", \"\")\n",
    "df[\"Date\"] = df[\"Date\"].replace(month_mapping, regex=True)\n",
    "df[\"Date\"] = pd.to_datetime(df[\"Date\"])\n",
    "\n",
    "df[\"Price IDR\"] = df[\"Price\"].str.split(\"\\n\").str[0].str.replace(\"Rp \", \"\")\n",
    "df[\"Price IDR\"] = df[\"Price IDR\"].apply(convert_price)\n",
    "\n",
    "df[\"Monthly Payment IDR\"] = df[\"Price\"].str.split(\"\\n\").str[1].str.replace(\"Cicilan : \", \"\").str.replace(\" per bulan\", \"\")\n",
    "df[\"Monthly Payment IDR\"] = df[\"Monthly Payment IDR\"].apply(convert_price)\n",
    "\n",
    "df[\"Latitude\"] = df[\"Location\"].str.split(\", \").str[-1].map(lambda x: coordinates.get(x, {}).get(\"latitude\"))\n",
    "df[\"Longitude\"] = df[\"Location\"].str.split(\", \").str[-1].map(lambda x: coordinates.get(x, {}).get(\"longitude\"))\n",
    "\n",
    "df[\"Scraped Timestamp\"] = pd.to_datetime(df[\"Scraped Timestamp\"])\n",
    "\n",
    "df = df.drop(\"Price\", axis=1)\n",
    "df = df[[\"Date\", \"Title\", \"Link\", \"Location\", \"Latitude\", \"Longitude\", \"Bedroom\", \"Bathroom\", \"Garage\", \"Land m2\", \"Building m2\", \"Price IDR\", \"Monthly Payment IDR\", \"Agent\", \"Scraped Timestamp\"]]\n",
    "df.columns = df.columns.str.lower().str.replace(\" \", \"_\")\n",
    "\n",
    "for col in [\"latitude\", \"longitude\", \"bedroom\", \"bathroom\", \"garage\", \"land_m2\", \"building_m2\", \"price_idr\", \"monthly_payment_idr\"]:\n",
    "    df[col] = df[col].astype(float)\n",
    "\n",
    "df = df.drop_duplicates(subset=[\"date\", \"title\", \"link\", \"location\"]).reset_index(drop=True)\n",
    "\n",
    "condition = (\n",
    "    (df[\"title\"] == query_most_recent[\"title\"][0]) &\n",
    "    (df[\"link\"] == query_most_recent[\"link\"][0]) &\n",
    "    (df[\"location\"] == query_most_recent[\"location\"][0]) &\n",
    "    (df[\"agent\"] == query_most_recent[\"agent\"][0])\n",
    ")\n",
    "df = df[~condition]\n",
    "\n",
    "df.head()"
   ]
  },
  {
   "cell_type": "code",
   "execution_count": 11,
   "metadata": {},
   "outputs": [
    {
     "data": {
      "text/html": [
       "<div>\n",
       "<style scoped>\n",
       "    .dataframe tbody tr th:only-of-type {\n",
       "        vertical-align: middle;\n",
       "    }\n",
       "\n",
       "    .dataframe tbody tr th {\n",
       "        vertical-align: top;\n",
       "    }\n",
       "\n",
       "    .dataframe thead th {\n",
       "        text-align: right;\n",
       "    }\n",
       "</style>\n",
       "<table border=\"1\" class=\"dataframe\">\n",
       "  <thead>\n",
       "    <tr style=\"text-align: right;\">\n",
       "      <th></th>\n",
       "      <th>date</th>\n",
       "      <th>title</th>\n",
       "      <th>link</th>\n",
       "      <th>location</th>\n",
       "      <th>latitude</th>\n",
       "      <th>longitude</th>\n",
       "      <th>bedroom</th>\n",
       "      <th>bathroom</th>\n",
       "      <th>garage</th>\n",
       "      <th>land_m2</th>\n",
       "      <th>building_m2</th>\n",
       "      <th>price_idr</th>\n",
       "      <th>monthly_payment_idr</th>\n",
       "      <th>agent</th>\n",
       "      <th>scraped_timestamp</th>\n",
       "    </tr>\n",
       "  </thead>\n",
       "  <tbody>\n",
       "  </tbody>\n",
       "</table>\n",
       "</div>"
      ],
      "text/plain": [
       "Empty DataFrame\n",
       "Columns: [date, title, link, location, latitude, longitude, bedroom, bathroom, garage, land_m2, building_m2, price_idr, monthly_payment_idr, agent, scraped_timestamp]\n",
       "Index: []"
      ]
     },
     "execution_count": 11,
     "metadata": {},
     "output_type": "execute_result"
    }
   ],
   "source": [
    "most_recent = df[df[\"scraped_timestamp\"] == df[\"scraped_timestamp\"].min()]\n",
    "most_recent"
   ]
  },
  {
   "attachments": {},
   "cell_type": "markdown",
   "metadata": {},
   "source": [
    "# Data Storage"
   ]
  },
  {
   "attachments": {},
   "cell_type": "markdown",
   "metadata": {},
   "source": [
    "Uploading the DataFrames to the specified BigQuery tables."
   ]
  },
  {
   "cell_type": "code",
   "execution_count": 12,
   "metadata": {},
   "outputs": [],
   "source": [
    "schema = [\n",
    "    {\"name\": \"date\", \"type\": \"DATE\"},\n",
    "    {\"name\": \"title\", \"type\": \"STRING\"},\n",
    "    {\"name\": \"link\", \"type\": \"STRING\"},\n",
    "    {\"name\": \"location\", \"type\": \"STRING\"},\n",
    "    {\"name\": \"latitude\", \"type\": \"FLOAT64\"},\n",
    "    {\"name\": \"longitude\", \"type\": \"FLOAT64\"},\n",
    "    {\"name\": \"bedroom\", \"type\": \"FLOAT64\"},\n",
    "    {\"name\": \"bathroom\", \"type\": \"FLOAT64\"},\n",
    "    {\"name\": \"garage\", \"type\": \"FLOAT64\"},\n",
    "    {\"name\": \"land_m2\", \"type\": \"FLOAT64\"},\n",
    "    {\"name\": \"building_m2\", \"type\": \"FLOAT64\"},\n",
    "    {\"name\": \"price_idr\", \"type\": \"FLOAT64\"},\n",
    "    {\"name\": \"monthly_payment_idr\", \"type\": \"FLOAT64\"},\n",
    "    {\"name\": \"agent\", \"type\": \"STRING\"}\n",
    "]"
   ]
  },
  {
   "cell_type": "code",
   "execution_count": 13,
   "metadata": {},
   "outputs": [],
   "source": [
    "df_without_timestamp = df.copy()\n",
    "df_without_timestamp = df_without_timestamp.drop(\"scraped_timestamp\", axis=1)\n",
    "\n",
    "df_without_timestamp.to_gbq(\n",
    "    destination_table=target_table,\n",
    "    project_id=project_id,\n",
    "    if_exists=\"append\",\n",
    "    location=job_location,\n",
    "    chunksize=10_000,\n",
    "    progress_bar=True,\n",
    "    credentials=credential,\n",
    "    table_schema=schema\n",
    ")"
   ]
  },
  {
   "cell_type": "code",
   "execution_count": 14,
   "metadata": {},
   "outputs": [],
   "source": [
    "most_recent_without_timestamp = most_recent.copy()\n",
    "most_recent_without_timestamp = most_recent_without_timestamp.drop(\"scraped_timestamp\", axis=1)\n",
    "\n",
    "most_recent_without_timestamp.to_gbq(\n",
    "    destination_table=target_table_2,\n",
    "    project_id=project_id,\n",
    "    if_exists=\"replace\",\n",
    "    location=job_location,\n",
    "    progress_bar=True,\n",
    "    credentials=credential,\n",
    "    table_schema=schema\n",
    ")"
   ]
  }
 ],
 "metadata": {
  "kernelspec": {
   "display_name": "jakarta_housing_price",
   "language": "python",
   "name": "python3"
  },
  "language_info": {
   "codemirror_mode": {
    "name": "ipython",
    "version": 3
   },
   "file_extension": ".py",
   "mimetype": "text/x-python",
   "name": "python",
   "nbconvert_exporter": "python",
   "pygments_lexer": "ipython3",
   "version": "3.11.3"
  },
  "orig_nbformat": 4
 },
 "nbformat": 4,
 "nbformat_minor": 2
}
